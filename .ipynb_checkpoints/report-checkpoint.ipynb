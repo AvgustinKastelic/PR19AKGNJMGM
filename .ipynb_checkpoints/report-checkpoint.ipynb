{
 "cells": [
  {
   "cell_type": "markdown",
   "metadata": {},
   "source": [
    "# Raziskava korelacije med različnimi objavami na spletu ter nihanjem kripto valut."
   ]
  },
  {
   "cell_type": "markdown",
   "metadata": {},
   "source": [
    "## Člani:\n",
    "Člani skupine smo: Gal Mrvar, Avguštin Kastelic, Gregor Novak, Jure Mohar"
   ]
  },
  {
   "cell_type": "markdown",
   "metadata": {},
   "source": [
    "## Opis problema in cilji\n",
    "Iz podatkov, bi radi ugotovili, ali obstaja korelacija med objavami na spletu ter nihanjem kripto valut. Zanima nas ali na ceno oz. volumen kripto valut vplivajo naslednji faktorji:\n",
    "* Količina twitter objav / člankov\n",
    "* Pozitivni / negativni tweeti vplivnih twitter računov\n",
    "* Število všečkov, retweetov\n",
    "\n",
    "V sklopu seminarske smo zgradili:\n",
    "* analize nihanja kripto valut na podlagi objav in Twitter sporočil\n",
    "* klasifikator sentimenta Twitter sporočil\n",
    "* trende različnih konceptov v povezavi s kripto valutami skozi čas\n"
   ]
  },
  {
   "cell_type": "markdown",
   "metadata": {},
   "source": [
    "## Opis podatkov\n",
    "\n",
    "Podatke smo črpali iz večih virov. Vzeli smo obdobje med 1.1.2017 in 1.1.2019 saj je to obdobje zaradi cen kriptovalut najbolj zanimivo za našo raziskavo.\n",
    "\n",
    "### 1. Objave vplivnih oseb na Twitterju.\n",
    "Najprej smo poskusili s twitter API-jem, a brez doplačila seže le en teden nazaj. Zato smo napisali program, ki preko query search-ov na twitterju bere twitte. Za začetek smo zbrali twitter objave nekaj najbolj vplivnih twitter računov na območju kriptovalut. Zbrali smo nekaj več kot 100.000 Twitter sporočil. \n",
    "\n",
    "### 2. Objave medijev na spletu\n",
    "Članke smo zajeli s pomočjo orodja Event Registry, ki ga razvijajo v Sloveniji na Inštitutu Jožefa Štefana. Zbrali smo 220.000 člankov v 39 jezikih, ki omenjajo kripto valute. Za vsak članek je podan naslov, vsebina, vrsta, jezik, čas, vir, avtorji, kategorije, ter seznam konceptov, ki so omenjeni v besedilu. Vse skupaj je naneslo na skoraj 2 GB tekstovnih podatkov.\n",
    "\n",
    "### 3. Podatki o kriptovalutah\n",
    "Osredotočili na Bitcoin in s pomočjo CryptoCompare API pridobili dnevne podatke v izbranem obdobju o ceni in volumnu. Pridobljene podatke v JSON formatu smo pretvorili v CSV format za lažje branje iz datoteke.\n",
    "\n"
   ]
  },
  {
   "cell_type": "markdown",
   "metadata": {},
   "source": [
    "# Rezultati"
   ]
  },
  {
   "cell_type": "markdown",
   "metadata": {},
   "source": [
    "## Analiza z Google trendi\n",
    "\n",
    "Analiza z Google trendi nam potrdi domnevo, da je Bitcoin center kripto valut.\n",
    "\n",
    "![Screenshot](google_trends/graph.png)\n",
    "\n",
    "### Razlaga grafa\n",
    "\n",
    "#### Legenda\n",
    "\n",
    "Z modro je označena pogostos iskanja <font color=\"blue\">Bitcoin</font><br>\n",
    "z rdečo pa iskanje <font color=\"red\">kriptovaluta</font>\n",
    "\n",
    "#### Analiza\n",
    "\n",
    "Iskanje \"kriptovaluta\" približno enakomerno narašča in pada s iskanjem besede \"Bitcoin\" iz tega lahko sklepamo, da sta le ti povezani med seboj. Če ta graf primerjamo z ostalimi, ki smo jih naredili (cena bitcoina, članki o kriptovalutah) vidimo, da vseh nastopa podoben vzorec.\n",
    "\n",
    "Če pogledamo še iskanje po državah dobimo naslednje rezultate:\n",
    "\n",
    "**Iskanje \"Bitcoin\"**\n",
    "1. Tajvan\n",
    "2. Pakistan\n",
    "3. Japonska\n",
    "4. Vietnam\n",
    "\n",
    "**Iskanje \"kriptovaluta\"**\n",
    "1. Francija\n",
    "2. Iran\n",
    "3. **Slovenija**\n",
    "4. Litva\n",
    "\n",
    "Vidimo, da so Azijske države vodilne v iskanju \"Bitcoina\", medtem ko v iskanju \"kriptovaluta\" prevladujejo Evropske države, na tretjem mestu pa se nahaja celo Slovenija, tako da ni presenetljivo, da imamo veliko podjetji, ki se ukvarja s kriptovalutami (Bitstamp, NiceHash, Viberate, ...).\n",
    "\n",
    "\n",
    "### Iskanje \"kriptovaluta\" po državah skozi čas\n",
    "\n",
    "Na začetku leta 2017 je močno prevladovala Nigerija z nekaj afriškim državam, sledile pa so jim evropske (med njimi tudi Slovenija).\n",
    "\n",
    "**začetek 2017**\n",
    "1. Nigerija\n",
    "2. Uganda\n",
    "3. Nizozemska\n",
    "4. Slovenija\n",
    "\n",
    "Nato je v začetku 2018 pobudo prevzela Slovenija, vključila se je tudi Avstralija in presenetljivo Venezuela.\n",
    "\n",
    "**začetek 2018**\n",
    "1. Slovenija\n",
    "2. Nizozemska\n",
    "3. Avstralija\n",
    "4. Venezuela\n",
    "\n",
    "Ob začetku trenutnega leta Slovenci še vedno kraljujemo na vrhu, sledi pa nam Malta.\n",
    "\n",
    "**začetek 2019**\n",
    "1. Slovenija\n",
    "2. Malta\n",
    "3. Sveta Helena\n",
    "4. Nizozemska\n",
    "\n"
   ]
  },
  {
   "cell_type": "markdown",
   "metadata": {},
   "source": [
    "## Sentimentalni klasifikator\n",
    "\n",
    "### Namen klasifikacije\n",
    "\n",
    "S klasifikacijo smo nameravali analizirati podatke (twitte ter članke) in jih deliti na tri kategorije:\n",
    "•\tPozitivno\n",
    "•\tNegativno\n",
    "•\tNevtralno\n",
    "Te ugotovitve pa smo potem nameravali razporediti na graf v istem časovnem obdobju kot ceno oz. volumen kriptovalute BTC.\n",
    "\n",
    "### Izbira klasifikatorja\n",
    "\n",
    "#### TextBlob klasifikator\n",
    "V prvem poskusu smo izbrali knjižnico za procesiranje besedila TextBlob, ki se kar pogosto uporablja pri sentimentalni analizi teksta. Pri tem smo naleteli na nekaj težav: Uspešnost klasifikatorja je bila slaba, manjša kot večinski klasifikator, kar pomeni, da je bila klasifikacija praktično neuporabna.\n",
    "\n",
    "#### TextBlob naivni Bayesov klasifikator\n",
    "Naslednja možnost je bila uporabiti naivni bayes klasifikator, prav tako od TextBloba, ki uporablja nltk (natural language toolkit) in ima za učno množico že zbrane podatke ocen oz. mnenj filmov. Tukaj smo se odločili besedila razbiti na posamezne besede in izključiti ponovitve besed, linke ter vse za klasifkator »neuporabne« besede s tem smo upali, da bomo izboljšali klasifikator. Vendar kljub temu nismo uspeli dobiti boljše točnosti od večinskega klasifikatorja.\n",
    "\n",
    "#### Naivni Bayes s pomočjo nltk\n",
    "Poskusili smo zgraditi tudi svoj naivni Bayesov klasifikator. Za učno množico smo uporabili prosto dostopne podatke projekta Sentiment140, kjer so za učno množico uporabili 1.600.000 tweetov. Izkazalo se je, da v primeru tako velike učne množice učenje klasifikatorja traja predolgo. Zato smo vzeli le delež teh tweetov. Očitno je bil ta delež premajhen, ker rezultati klasifikatorja niso bili nič boljši od prejšnjih. Verjetno bi rezultat lahko izboljašli z večjo učno množico, ki vsebuje tweete s prodročja kripto valut. Tako bi se klasifikator bolj prilagodil terminologiji v našem besedilu.\n",
    "\n",
    "\n",
    "### Testiranje klasifikatorja\n",
    "\n",
    "Na koncu se je izkazalo, da najbolje deluje prvi klasifikator, če iz besedila odstranimo linke ter nekoristne informacije. Tako smo dobili klasifikator, ki je bil za 4% boljši od večinskega klasifikatorja.\n",
    "\n",
    "Klasifikator smo testirali tako, da smo kreirali svoje testne podatke iz naključno izbranih twittov, teh je bilo 115. Te podatke smo klasificirali ročno ter nato pognali klasifikator in preverili rezultate.\n",
    "\n",
    "**Uspešnost:**\n",
    "* Večinski klasfikator: 52%\n",
    "* Naš klasifikator: 56%\n",
    "\n",
    "**Ugotovitve:**\n",
    "V kolikor se poglobimo v rezultate se nam zdi, da je bil rezultat kar pričakovan. V twittih se uporablja ogromno besednih zvez katere je praktično nemogoče klasificirati prav tako je ogromno sarkastičnih povedi itd. Poleg tega smo delili na 3 kategorije kar pomeni da 54% točnost niti ni tako slaba.\n",
    "\n",
    "\n",
    "\n",
    "\n"
   ]
  },
  {
   "cell_type": "markdown",
   "metadata": {},
   "source": [
    "## Korelacija med tweeti in kripto valutami\n",
    "\n",
    "![Screenshot](Grafi/Tweets/output.png)\n",
    "\n",
    "## Korelacija med mediji in kripto valutami\n",
    "\n",
    "Zanima nas, ali mediji vplivajo na stanje kripto valut. Zato smo na spodnjem grafu izrisali ceno trenutno najbolj popularne kripto valute Bitcoin ter število objavljenih člankov skozi opazovano obdobje.\n",
    "\n",
    "![Screenshot](Grafi/Articles/output.png)\n",
    "\n",
    "Na grafu vidimo, da se je število dnevnih objav potrojilo, nekaj dni preden se je Bitcoin parabolično povzpel na do sedaj najvišji vrh 20.000 dolarjev.\n",
    "\n",
    "## Iskanje trendov\n",
    "\n",
    "Za vsak članek hranimo poleg ostalih informacij tudi seznam konceptov, ki so omenjeni v besedilu. Zanimalo nas je, ali lahko pogostost različnih konceptov izrišemo na grafu in tako prikažemo njihov trend skozi čas. Za primer sta podana dva načina zagotavljanja varnosti verige podatkovnih blokov (angleško blockchain: Proof of work in Proof of stake. Več o razliki med njima si lahko preberete na: https://medium.com/@EdChain/pow-vs-pos-a-comparison-of-two-blockchain-consensus-algorithms-f3effdae55f5\n",
    "\n",
    "![Screenshot](Grafi/Article_trends/output.png)\n",
    "\n",
    "Izkaže se, da se koncepti, ki smo jih želeli analizirati, v člankih ne pojavijo dovolj pogosto, da bi lahko iz tega izpeljali kakšne trende.\n"
   ]
  },
  {
   "cell_type": "code",
   "execution_count": null,
   "metadata": {},
   "outputs": [],
   "source": []
  }
 ],
 "metadata": {
  "kernelspec": {
   "display_name": "Python 3",
   "language": "python",
   "name": "python3"
  },
  "language_info": {
   "codemirror_mode": {
    "name": "ipython",
    "version": 3
   },
   "file_extension": ".py",
   "mimetype": "text/x-python",
   "name": "python",
   "nbconvert_exporter": "python",
   "pygments_lexer": "ipython3",
   "version": "3.7.1"
  },
  "nbTranslate": {
   "displayLangs": [
    "sl",
    "en"
   ],
   "hotkey": "alt-t",
   "langInMainMenu": true,
   "sourceLang": "en",
   "targetLang": "sl",
   "useGoogleTranslate": true
  }
 },
 "nbformat": 4,
 "nbformat_minor": 2
}
