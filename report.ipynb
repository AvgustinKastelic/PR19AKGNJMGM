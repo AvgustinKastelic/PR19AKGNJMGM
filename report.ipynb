{
 "cells": [
  {
   "cell_type": "markdown",
   "metadata": {},
   "source": [
    "Report tempalte, če hočte pisat text naredte celico pa stistnce ESC + M"
   ]
  },
  {
   "cell_type": "markdown",
   "metadata": {},
   "source": [
    "## Analiza z Google trendi\n",
    "\n",
    "Ko smo opravili nekaj analiz, smo pomislili, da bi lahko pogledali na vplivanje cene še z kakšnega drugega kota. Spomnili smo se na Googlove analitike in se odločili, da preverimo še tam, če smo na pravi poti in se rezultati ujemajo.\n",
    "\n",
    "Googlovi analitiki delujejo tako, da uporabnik izbere časovno obdobje v katerem želi videti podatke ter ključne besede. Ugotovilo smo, da sta največji ključni besedi \"Bitcoin(tema)\" ter \"Kriptovalute(tema)\". Dobili smo spodaj prikazan graf:\n",
    "![Screenshot](google_trends/graph.png)\n",
    "\n",
    "### Razlaga grafa\n",
    "\n",
    "#### Legenda\n",
    "\n",
    "Z modro je označen <font color=\"blue\">Bitcoin</font><br>\n",
    "z rdečo pa <font color=\"red\">kriptovaluta</font>\n",
    "\n",
    "#### Skala\n",
    "\n",
    "Skala je sestavljena iz vrednosti od 0 do 100. Iz podatkov se obdobje v katerem je bilo največ iskanj po ključni besedi in se ji dodeli vrednost 100. Torej če imamo točko z vrednostjo 50 to pomeni, da je v tistem obdobju bilo polovico manj iskanj kot pa v obdobju, kjer je vrednost 100. Če pa ima točka vrednost 0 pomeni, da takrt ni nihče iskal to ključno besedo.\n",
    "\n",
    "#### Analiza\n",
    "\n",
    "Iskanje \"kriptovaluta\" približno enakomerno narašča in pada s iskanjem besede \"Bitcoin\" iz tega lahko sklepamo, da sta le ta povezana med seboj. Če ta graf primerjamo z ostalimi, ki smo jih naredili (cena bitcoina, članki o kriptovalutah) vidimo, da prihaja do zelo majhnjega odstopanja iz česar lahko sklepamo, da so medseboj povezani. Težko pa določimo kdo je odvisen od koga.\n",
    "\n",
    "Če pogledamo še iskanje po državah dobimo naslednje rezultate:\n",
    "\n",
    "**Iskanje \"Bitcoin\"**\n",
    "1. Tajvan\n",
    "2. Pakistan\n",
    "3. Japonska\n",
    "4. Vietnam\n",
    "\n",
    "**Iskanje \"kriptovaluta\"**\n",
    "1. Francija\n",
    "2. Iran\n",
    "3. **Slovenija**\n",
    "4. Litva\n",
    "\n",
    "Če na hitro pogledamo te rezultate, lahko vidimo, da so Azijske države vodilne v iskanju \"Bitcoina\", medtem ko v iskanju \"kriptovaluta\" prevladujejo Evropske države, na tretjem mestu pa se presenetljivo nahajo tudi Slovenija, tako da ni presenetljivo, da imamo veliko podjetji, ki se ukvarja z kriptovalutami (Bitstamp, NiceHash, Viberate, ...).\n",
    "\n",
    "\n",
    "### Iskanje \"kriptovaluta\" po državah čez čas\n",
    "\n",
    "Na začetku leta 2017 je močno prevladovala Nigerija z nekaj afriškim državam, sledile pa so jim evropske (med njimi tudi Slovenija).\n",
    "\n",
    "**začetek 2017**\n",
    "1. Nigerija\n",
    "2. Uganda\n",
    "3. Nizozemska\n",
    "4. Slovenija\n",
    "\n",
    "Nato je v začetku 2018 pobudo prevzela Slovenija, vključila se je tudi Avstralija in presenetljivo Venezuela.\n",
    "\n",
    "**začetek 2018**\n",
    "1. Slovenija\n",
    "2. Nizozemska\n",
    "3. Avstralija\n",
    "4. Venezuela\n",
    "\n",
    "Ob začetku trenutnega leta Slovenci še vedno kraljujemo na vrhu, sledi pa nam Malta.\n",
    "\n",
    "**začetek 2019**\n",
    "1. Slovenija\n",
    "2. Malta\n",
    "3. Sveta Helena\n",
    "4. Nizozemska\n",
    "\n"
   ]
  },
  {
   "cell_type": "markdown",
   "metadata": {},
   "source": [
    "\n",
    "\n",
    "## Analiza škandalov na ceno valut\n",
    "\n",
    "#### NiceHash\n",
    "\n",
    "Dne 6.12.2017 je slovensko podjetje NiceHash oznanila, da so jim vdrli hekerji in ukradli okoli 4700 bitcoinov (takrat 64milijonov dolarjev). Cena bitcoina v naslednjih dni ni padla...\n",
    "\n",
    "#### Mt. Gox\n",
    "\n",
    "neki neki\n",
    "\n",
    "#### \n",
    "\n",
    "https://www.bitcoincasinopro.com/news/biggest-bitcoin-scandals/\n",
    "\n"
   ]
  },
  {
   "cell_type": "code",
   "execution_count": null,
   "metadata": {},
   "outputs": [],
   "source": []
  }
 ],
 "metadata": {
  "kernelspec": {
   "display_name": "Python 3",
   "language": "python",
   "name": "python3"
  },
  "language_info": {
   "codemirror_mode": {
    "name": "ipython",
    "version": 3
   },
   "file_extension": ".py",
   "mimetype": "text/x-python",
   "name": "python",
   "nbconvert_exporter": "python",
   "pygments_lexer": "ipython3",
   "version": "3.7.1"
  }
 },
 "nbformat": 4,
 "nbformat_minor": 2
}
